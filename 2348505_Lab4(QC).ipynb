{
 "cells": [
  {
   "cell_type": "markdown",
   "metadata": {},
   "source": [
    "**Importing Necessary Libraries**"
   ]
  },
  {
   "cell_type": "code",
   "execution_count": 1,
   "metadata": {},
   "outputs": [
    {
     "name": "stdout",
     "output_type": "stream",
     "text": [
      "Note: you may need to restart the kernel to use updated packages.\n"
     ]
    }
   ],
   "source": [
    "%pip install qiskit -q"
   ]
  },
  {
   "cell_type": "code",
   "execution_count": 4,
   "metadata": {},
   "outputs": [
    {
     "name": "stdout",
     "output_type": "stream",
     "text": [
      "Collecting pylatexenc\n",
      "  Downloading pylatexenc-2.10.tar.gz (162 kB)\n",
      "  Installing build dependencies: started\n",
      "  Installing build dependencies: finished with status 'done'\n",
      "  Getting requirements to build wheel: started\n",
      "  Getting requirements to build wheel: finished with status 'done'\n",
      "  Preparing metadata (pyproject.toml): started\n",
      "  Preparing metadata (pyproject.toml): finished with status 'done'\n",
      "Building wheels for collected packages: pylatexenc\n",
      "  Building wheel for pylatexenc (pyproject.toml): started\n",
      "  Building wheel for pylatexenc (pyproject.toml): finished with status 'done'\n",
      "  Created wheel for pylatexenc: filename=pylatexenc-2.10-py3-none-any.whl size=136847 sha256=80a1ff0e9f842a6c4c588667e1121f192fc0453c39255dac27f60fa0535109cc\n",
      "  Stored in directory: c:\\users\\anushka\\appdata\\local\\pip\\cache\\wheels\\b1\\7a\\33\\9fdd892f784ed4afda62b685ae3703adf4c91aa0f524c28f03\n",
      "Successfully built pylatexenc\n",
      "Installing collected packages: pylatexenc\n",
      "Successfully installed pylatexenc-2.10\n",
      "Note: you may need to restart the kernel to use updated packages.\n"
     ]
    }
   ],
   "source": [
    "%pip install pylatexenc"
   ]
  },
  {
   "cell_type": "code",
   "execution_count": 42,
   "metadata": {},
   "outputs": [],
   "source": [
    "from qiskit import QuantumCircuit, QuantumRegister, ClassicalRegister\n",
    "from qiskit.primitives import Sampler\n",
    "from qiskit.visualization import plot_histogram\n",
    "from qiskit.quantum_info import Statevector\n",
    "import matplotlib.pyplot as plt\n",
    "from IPython.display import display"
   ]
  },
  {
   "cell_type": "markdown",
   "metadata": {},
   "source": [
    "### **1. Design Quantum Circuit for the Operations HSHT and Check the Output for the Two Basic Input Qubits**\n",
    "\n",
    "1. **Define the Circuit**: Apply the Hadamard gate $ H $, followed by the $ S $ gate, then $ H $ again, and finally the $ T $ gate.\n",
    "2. **Measure the Output**: Measure the result to see the output for both input states.\n",
    "\n",
    "#### Understanding the HSHT Circuit\n",
    "\n",
    "1. **Initial State**: The circuit starts with the qubit in state $ |0\\rangle $.\n",
    "\n",
    "2. **First Hadamard (H)**: This transforms the state $ |0\\rangle $ into a superposition:\n",
    "   $$\n",
    "   |0\\rangle \\xrightarrow{H} \\frac{1}{\\sqrt{2}} (|0\\rangle + |1\\rangle)\n",
    "   $$\n",
    "\n",
    "3. **S Gate**: The $ S $ gate (phase gate) adds a phase to the $ |1\\rangle $ component:\n",
    "   $$\n",
    "   \\frac{1}{\\sqrt{2}} (|0\\rangle + |1\\rangle) \\xrightarrow{S} \\frac{1}{\\sqrt{2}} (|0\\rangle + i|1\\rangle)\n",
    "   $$\n",
    "\n",
    "4. **Second Hadamard (H)**: This transforms the state back into a superposition:\n",
    "   $$\n",
    "   \\frac{1}{\\sqrt{2}} (|0\\rangle + i|1\\rangle) \\xrightarrow{H} \\frac{1}{\\sqrt{2}} \\left( \\frac{1 + i}{\\sqrt{2}} |0\\rangle + \\frac{1 - i}{\\sqrt{2}} |1\\rangle \\right)\n",
    "   $$\n",
    "   The result is a more complex superposition, but we don't need the exact coefficients for this explanation.\n",
    "\n",
    "5. **T Gate**: The $ T $ gate applies an additional phase:\n",
    "   $$\n",
    "   |0\\rangle \\rightarrow |0\\rangle, \\quad |1\\rangle \\rightarrow e^{i\\pi/4}|1\\rangle\n",
    "   $$\n",
    "\n",
    "After applying these operations, the output will still be a superposition state, which will generally yield equal probabilities for measuring $ |0\\rangle $ and $ |1\\rangle $, especially if the qubit is in a balanced superposition.\n"
   ]
  },
  {
   "cell_type": "code",
   "execution_count": 12,
   "metadata": {},
   "outputs": [
    {
     "data": {
      "image/png": "[encoded data removed]",
      "text/plain": [
       "<Figure size 519.897x200.667 with 1 Axes>"
      ]
     },
     "execution_count": 12,
     "metadata": {},
     "output_type": "execute_result"
    }
   ],
   "source": [
    "qreg = QuantumRegister(1, 'q')\n",
    "creg = ClassicalRegister(1, 'c')\n",
    "\n",
    "qc = QuantumCircuit(qreg, creg)\n",
    "\n",
    "qc.h(qreg[0])    \n",
    "qc.s(qreg[0])   \n",
    "qc.h(qreg[0])   \n",
    "qc.t(qreg[0])   \n",
    "\n",
    "qc.measure(qreg[0], creg[0])\n",
    "\n",
    "qc.draw('mpl')"
   ]
  },
  {
   "cell_type": "code",
   "execution_count": 13,
   "metadata": {},
   "outputs": [
    {
     "name": "stderr",
     "output_type": "stream",
     "text": [
      "C:\\Users\\Anushka\\AppData\\Local\\Temp\\ipykernel_4976\\3370667154.py:1: DeprecationWarning: The class ``qiskit.primitives.sampler.Sampler`` is deprecated as of qiskit 1.2. It will be removed no earlier than 3 months after the release date. All implementations of the `BaseSamplerV1` interface have been deprecated in favor of their V2 counterparts. The V2 alternative for the `Sampler` class is `StatevectorSampler`.\n",
      "  sampler = Sampler()\n"
     ]
    },
    {
     "data": {
      "image/png": "[encoded data removed]",
      "text/plain": [
       "<Figure size 640x480 with 1 Axes>"
      ]
     },
     "execution_count": 13,
     "metadata": {},
     "output_type": "execute_result"
    }
   ],
   "source": [
    "sampler = Sampler()\n",
    "\n",
    "job = sampler.run(qc)\n",
    "result = job.result()\n",
    "\n",
    "counts = result.quasi_dists[0].nearest_probability_distribution()\n",
    "plot_histogram(counts)"
   ]
  },
  {
   "cell_type": "markdown",
   "metadata": {},
   "source": [
    "1. **Quantum Register and Classical Register**: A quantum register with one qubit and a classical register for measurement.\n",
    "2. **Quantum Circuit**: The circuit is constructed using the HSHT operation:\n",
    "   - \\( H \\) (Hadamard)\n",
    "   - \\( S \\) (Phase gate)\n",
    "   - \\( H \\) (Hadamard)\n",
    "   - \\( T \\) (T gate)\n",
    "3. **Measurement**: The state of the qubit is measured and stored in the classical register.\n",
    "4. **Sampler**: The `Sampler` is used to execute the circuit, and the output is plotted as a histogram."
   ]
  },
  {
   "cell_type": "markdown",
   "metadata": {},
   "source": [
    "### **2. Check the reversibility of the operation HSHT in python and comment on that.**\n",
    "\n",
    "For the HSHT operation, we can apply the inverse of each gate in the reverse order:\n",
    "\n",
    "- The inverse of $ T $ is $ T^\\dagger $ (the adjoint of the T gate).\n",
    "- The inverse of $ H $ is $ H $ itself (since $ H $ is its own inverse).\n",
    "- The inverse of $ S $ is $ S^\\dagger $ (the adjoint of the S gate).\n",
    "\n",
    "The reverse operation for HSHT would be $ H $, followed by $ S^\\dagger $, then $ H $ again, and finally $ T^\\dagger $. \n",
    "\n",
    "**Comments on Reversibility**\n",
    "\n",
    "1. **Output Analysis**:\n",
    "   - The output counts from the HSHT operation and its inverse should ideally reflect the original state.\n",
    "   - For example, if the HSHT operation returns a state predominantly in \\( |0\\rangle \\) or \\( |1\\rangle \\), the inverse operation should also return similar results when starting from that output state.\n",
    "\n",
    "2. **Reversibility**:\n",
    "   - If the inverse operation successfully returns the system to the original state (i.e., the measurement outcomes are the same), then we can conclude that the HSHT operation is reversible.\n",
    "   - If there are discrepancies in the output distributions, it suggests that the HSHT operation is not perfectly reversible.\n"
   ]
  },
  {
   "cell_type": "code",
   "execution_count": 22,
   "metadata": {},
   "outputs": [
    {
     "data": {
      "image/png": "[encoded data removed]",
      "text/plain": [
       "<Figure size 519.897x200.667 with 1 Axes>"
      ]
     },
     "execution_count": 22,
     "metadata": {},
     "output_type": "execute_result"
    }
   ],
   "source": [
    "qc_reverse = QuantumCircuit(qreg, creg)\n",
    "\n",
    "qc_reverse.tdg(qreg[0])\n",
    "qc_reverse.h(qreg[0])\n",
    "qc_reverse.sdg(qreg[0])\n",
    "qc_reverse.h(qreg[0])\n",
    "\n",
    "qc_reverse.measure(qreg[0], creg[0])\n",
    "\n",
    "qc_reverse.draw('mpl')"
   ]
  },
  {
   "cell_type": "code",
   "execution_count": 24,
   "metadata": {},
   "outputs": [
    {
     "data": {
      "image/png": "[encoded data removed]",
      "text/plain": [
       "<Figure size 640x480 with 1 Axes>"
      ]
     },
     "execution_count": 24,
     "metadata": {},
     "output_type": "execute_result"
    }
   ],
   "source": [
    "job_reverse = sampler.run(qc_reverse)\n",
    "result_reverse = job_reverse.result()\n",
    "\n",
    "counts_reverse = result_reverse.quasi_dists[0].nearest_probability_distribution()\n",
    "plot_histogram(counts_reverse)"
   ]
  },
  {
   "cell_type": "markdown",
   "metadata": {},
   "source": [
    "### **3. Design a quantum circuit using H and Control- Not gate and check the output for various input combinations.** "
   ]
  },
  {
   "cell_type": "code",
   "execution_count": 43,
   "metadata": {},
   "outputs": [
    {
     "name": "stdout",
     "output_type": "stream",
     "text": [
      "Circuit for initial state |00⟩:\n"
     ]
    },
    {
     "data": {
      "image/png": "[encoded data removed]",
      "text/plain": [
       "<Figure size 287.294x284.278 with 1 Axes>"
      ]
     },
     "metadata": {},
     "output_type": "display_data"
    },
    {
     "name": "stdout",
     "output_type": "stream",
     "text": [
      "Final state after applying the circuit:\n"
     ]
    },
    {
     "data": {
      "text/latex": [
       "$$\\frac{\\sqrt{2}}{2} |00\\rangle+\\frac{\\sqrt{2}}{2} |11\\rangle$$"
      ],
      "text/plain": [
       "<IPython.core.display.Latex object>"
      ]
     },
     "metadata": {},
     "output_type": "display_data"
    },
    {
     "name": "stdout",
     "output_type": "stream",
     "text": [
      "Circuit for initial state |01⟩:\n"
     ]
    },
    {
     "data": {
      "image/png": "[encoded data removed]",
      "text/plain": [
       "<Figure size 287.294x284.278 with 1 Axes>"
      ]
     },
     "metadata": {},
     "output_type": "display_data"
    },
    {
     "name": "stdout",
     "output_type": "stream",
     "text": [
      "Final state after applying the circuit:\n"
     ]
    },
    {
     "data": {
      "text/latex": [
       "$$\\frac{\\sqrt{2}}{2} |01\\rangle+\\frac{\\sqrt{2}}{2} |10\\rangle$$"
      ],
      "text/plain": [
       "<IPython.core.display.Latex object>"
      ]
     },
     "metadata": {},
     "output_type": "display_data"
    },
    {
     "name": "stdout",
     "output_type": "stream",
     "text": [
      "Circuit for initial state |10⟩:\n"
     ]
    },
    {
     "data": {
      "image/png": "[encoded data removed]",
      "text/plain": [
       "<Figure size 370.906x284.278 with 1 Axes>"
      ]
     },
     "metadata": {},
     "output_type": "display_data"
    },
    {
     "name": "stdout",
     "output_type": "stream",
     "text": [
      "Final state after applying the circuit:\n"
     ]
    },
    {
     "data": {
      "text/latex": [
       "$$\\frac{\\sqrt{2}}{2} |00\\rangle- \\frac{\\sqrt{2}}{2} |11\\rangle$$"
      ],
      "text/plain": [
       "<IPython.core.display.Latex object>"
      ]
     },
     "metadata": {},
     "output_type": "display_data"
    },
    {
     "name": "stdout",
     "output_type": "stream",
     "text": [
      "Circuit for initial state |11⟩:\n"
     ]
    },
    {
     "data": {
      "image/png": "[encoded data removed]",
      "text/plain": [
       "<Figure size 370.906x284.278 with 1 Axes>"
      ]
     },
     "metadata": {},
     "output_type": "display_data"
    },
    {
     "name": "stdout",
     "output_type": "stream",
     "text": [
      "Final state after applying the circuit:\n"
     ]
    },
    {
     "data": {
      "text/latex": [
       "$$- \\frac{\\sqrt{2}}{2} |01\\rangle+\\frac{\\sqrt{2}}{2} |10\\rangle$$"
      ],
      "text/plain": [
       "<IPython.core.display.Latex object>"
      ]
     },
     "metadata": {},
     "output_type": "display_data"
    }
   ],
   "source": [
    "%matplotlib inline\n",
    "\n",
    "def print_output(initial_state):\n",
    "    circuit = QuantumCircuit(2, 2)\n",
    "    \n",
    "    if initial_state == [1, 0]:  \n",
    "        circuit.x(0)  \n",
    "    elif initial_state == [0, 1]:  \n",
    "        circuit.x(1)  \n",
    "    elif initial_state == [1, 1]:  \n",
    "        circuit.x(0)  \n",
    "        circuit.x(1)  \n",
    "    \n",
    "    # Apply gates\n",
    "    circuit.h(0)     \n",
    "    circuit.cx(0, 1)  \n",
    "\n",
    "    # Calculate the output state before measurement\n",
    "    final_state = Statevector.from_instruction(circuit)\n",
    "\n",
    "    # Print the circuit diagram\n",
    "    print(f\"Circuit for initial state |{initial_state[0]}{initial_state[1]}⟩:\")\n",
    "    circuit.draw(\"mpl\")  \n",
    "    plt.show()  \n",
    "\n",
    "    # Print the final state as a vector\n",
    "    print(f\"Final state after applying the circuit:\")\n",
    "    display(final_state.draw(\"latex\")) \n",
    "    plt.show()\n",
    "\n",
    "initial_states = [[0, 0], [0, 1], [1, 0], [1, 1]]\n",
    "\n",
    "for state in initial_states:\n",
    "    print_output(state)"
   ]
  },
  {
   "cell_type": "markdown",
   "metadata": {},
   "source": [
    "Here’s your text formatted according to your specified Markdown style:\n",
    "\n",
    "### **4. Comment on the Output Generated by the Above Circuit and Establish the Relation with Bell States**\n",
    "\n",
    "#### Circuit Output\n",
    "\n",
    "The quantum circuit designed with the Hadamard (H) gate and Controlled-NOT (CNOT) gate operates as follows based on the initial states:\n",
    "\n",
    "1. **Initial State $ |00\\rangle $**:\n",
    "   - **Circuit Operation**: The Hadamard gate on $ q_0 $ transforms it to a superposition state, resulting in $ |+\\rangle = \\frac{1}{\\sqrt{2}} (|0\\rangle + |1\\rangle) $. The CNOT gate does not change $ q_1 $ since $ q_0 $ is $ |0\\rangle $. \n",
    "   - **Final Output**: The output is $ |00\\rangle + |11\\rangle $, which indicates both outcomes are possible, but neither is entangled.\n",
    "\n",
    "2. **Initial State $ |01\\rangle $**:\n",
    "   - **Circuit Operation**: The $ X $ gate sets $ q_0 $ to $ |1\\rangle $, so applying the H gate creates \\( |0\\rangle \\) and \\( |1\\rangle \\) superpositions, followed by CNOT.\n",
    "   - **Final Output**: The output is $ |01\\rangle + |10\\rangle $. Here, $ q_1 $ is influenced by $ q_0 $, creating correlation but not entanglement.\n",
    "\n",
    "3. **Initial State $ |10\\rangle $**:\n",
    "   - **Circuit Operation**: Similar to $ |01\\rangle $, where $ q_0 $ is initially set to $ |1\\rangle $. \n",
    "   - **Final Output**: The output is $ |00\\rangle + |11\\rangle $. Again, correlation exists between the qubits, but they remain distinct and not entangled.\n",
    "\n",
    "4. **Initial State $ |11\\rangle $**:\n",
    "   - **Circuit Operation**: After setting both qubits to $ |1\\rangle $, applying the Hadamard on $ q_0 $ leads to a superposition, and CNOT entangles the qubits.\n",
    "   - **Final Output**: The output is $ |01\\rangle + |10\\rangle $, similar to the previous case. However, if you set $ q_0 $ to $ |0\\rangle and  |1\\rangle $, it would have resulted in a more distinct outcome.\n",
    "\n",
    "\n",
    "### Bell State Transformations Using U\n",
    "\n",
    "Given a unitary operation \\( U \\), the transformations on the computational basis states can be described as follows:\n",
    "\n",
    "- $$ U|00\\rangle = |\\Phi^+\\rangle $$\n",
    "- $$ U|01\\rangle = |\\Psi^+\\rangle $$\n",
    "- $$ U|10\\rangle = |\\Phi^-\\rangle $$\n",
    "- $$ U|11\\rangle = -|\\Psi^-\\rangle $$\n",
    "\n",
    "Where the Bell states are defined as:\n",
    "\n",
    "- $$ |\\Phi^+\\rangle = \\frac{1}{\\sqrt{2}} (|00\\rangle + |11\\rangle) $$\n",
    "- $$ |\\Phi^-\\rangle = \\frac{1}{\\sqrt{2}} (|00\\rangle - |11\\rangle) $$\n",
    "- $$ |\\Psi^+\\rangle = \\frac{1}{\\sqrt{2}} (|01\\rangle + |10\\rangle) $$\n",
    "- $$ |\\Psi^-\\rangle = \\frac{-1}{\\sqrt{2}} (|01\\rangle - |10\\rangle) $$\n",
    "\n",
    "\n",
    "### Inference\n",
    "\n",
    "The circuit effectively demonstrates how to use the Hadamard and CNOT gates to create quantum correlations. While the outputs show some correlation between qubits, they do not represent true entanglement as seen in Bell states. To create those states, specific manipulations and initial conditions must be applied. The study of such circuits helps in understanding the foundational aspects of quantum mechanics and quantum information theory. If you have any further questions or need additional clarification, feel free to ask!"
   ]
  },
  {
   "cell_type": "markdown",
   "metadata": {},
   "source": []
  }
 ],
 "metadata": {
  "kernelspec": {
   "display_name": ".venv",
   "language": "python",
   "name": "python3"
  },
  "language_info": {
   "codemirror_mode": {
    "name": "ipython",
    "version": 3
   },
   "file_extension": ".py",
   "mimetype": "text/x-python",
   "name": "python",
   "nbconvert_exporter": "python",
   "pygments_lexer": "ipython3",
   "version": "3.11.7"
  }
 },
 "nbformat": 4,
 "nbformat_minor": 2
}
