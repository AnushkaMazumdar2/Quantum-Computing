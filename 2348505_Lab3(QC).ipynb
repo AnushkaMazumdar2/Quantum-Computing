{
  "nbformat": 4,
  "nbformat_minor": 0,
  "metadata": {
    "colab": {
      "provenance": [],
      "authorship_tag": "ABX9TyNOEtknPFblMjnYD1/z8DeG",
      "include_colab_link": true
    },
    "kernelspec": {
      "name": "python3",
      "display_name": "Python 3"
    },
    "language_info": {
      "name": "python"
    }
  },
  "cells": [
    {
      "cell_type": "markdown",
      "metadata": {
        "id": "view-in-github",
        "colab_type": "text"
      },
      "source": [
        "<a href=\"https://colab.research.google.com/github/AnushkaMazumdar2/Quantum-Computing/blob/main/2348505_Lab3(QC).ipynb\" target=\"_parent\"><img src=\"https://colab.research.google.com/assets/colab-badge.svg\" alt=\"Open In Colab\"/></a>"
      ]
    },
    {
      "cell_type": "markdown",
      "source": [
        "**Importing Necessary Libraries**"
      ],
      "metadata": {
        "id": "QOknkcFT1bti"
      }
    },
    {
      "cell_type": "code",
      "source": [
        "!pip install qiskit -q"
      ],
      "metadata": {
        "id": "bWncLkIW3ykP",
        "colab": {
          "base_uri": "https://localhost:8080/"
        },
        "outputId": "5257cde8-29b2-4681-e5d9-07a0b81505f1"
      },
      "execution_count": 2,
      "outputs": [
        {
          "output_type": "stream",
          "name": "stdout",
          "text": [
            "\u001b[2K   \u001b[90m━━━━━━━━━━━━━━━━━━━━━━━━━━━━━━━━━━━━━━━━\u001b[0m \u001b[32m4.8/4.8 MB\u001b[0m \u001b[31m15.1 MB/s\u001b[0m eta \u001b[36m0:00:00\u001b[0m\n",
            "\u001b[2K   \u001b[90m━━━━━━━━━━━━━━━━━━━━━━━━━━━━━━━━━━━━━━━━\u001b[0m \u001b[32m119.4/119.4 kB\u001b[0m \u001b[31m4.8 MB/s\u001b[0m eta \u001b[36m0:00:00\u001b[0m\n",
            "\u001b[2K   \u001b[90m━━━━━━━━━━━━━━━━━━━━━━━━━━━━━━━━━━━━━━━━\u001b[0m \u001b[32m2.0/2.0 MB\u001b[0m \u001b[31m17.9 MB/s\u001b[0m eta \u001b[36m0:00:00\u001b[0m\n",
            "\u001b[2K   \u001b[90m━━━━━━━━━━━━━━━━━━━━━━━━━━━━━━━━━━━━━━━━\u001b[0m \u001b[32m49.7/49.7 kB\u001b[0m \u001b[31m1.7 MB/s\u001b[0m eta \u001b[36m0:00:00\u001b[0m\n",
            "\u001b[2K   \u001b[90m━━━━━━━━━━━━━━━━━━━━━━━━━━━━━━━━━━━━━━━━\u001b[0m \u001b[32m49.7/49.7 MB\u001b[0m \u001b[31m12.4 MB/s\u001b[0m eta \u001b[36m0:00:00\u001b[0m\n",
            "\u001b[2K   \u001b[90m━━━━━━━━━━━━━━━━━━━━━━━━━━━━━━━━━━━━━━━━\u001b[0m \u001b[32m108.5/108.5 kB\u001b[0m \u001b[31m5.0 MB/s\u001b[0m eta \u001b[36m0:00:00\u001b[0m\n",
            "\u001b[?25h"
          ]
        }
      ]
    },
    {
      "cell_type": "code",
      "source": [
        "from qiskit.quantum_info import Statevector, Operator\n",
        "from qiskit.visualization import plot_bloch_multivector, plot_state_qsphere\n",
        "from numpy import sqrt\n",
        "import matplotlib.pyplot as plt\n",
        "import numpy as np"
      ],
      "metadata": {
        "id": "SBhNvhVy1erV"
      },
      "execution_count": 3,
      "outputs": []
    },
    {
      "cell_type": "markdown",
      "source": [
        "### Quantum State Operations and Measurement in Qiskit\n",
        "\n",
        "This document explains how to perform basic operations on quantum states using Qiskit. The operations include tensor products, applying quantum gates (operators), and performing partial measurements on a quantum state."
      ],
      "metadata": {
        "id": "ugPvsaSd3f4F"
      }
    },
    {
      "cell_type": "markdown",
      "source": [
        "### 1. Perform Tensor Product of Two Vectors\n",
        "\n",
        "In quantum computing, the **tensor product** is used to combine two or more quantum states into a single joint state. Below, we take two quantum states |0⟩ and |0⟩ (or |1⟩ if you change the state) and compute their tensor product."
      ],
      "metadata": {
        "id": "g79Qb4Rh4MUl"
      }
    },
    {
      "cell_type": "code",
      "source": [
        "zero = Statevector.from_label(\"0\")\n",
        "\n",
        "one = Statevector.from_label(\"0\")\n",
        "\n",
        "tensor_product_0 = zero.tensor(one)\n",
        "tensor_product_0.draw(\"latex\")"
      ],
      "metadata": {
        "colab": {
          "base_uri": "https://localhost:8080/",
          "height": 37
        },
        "id": "qZAHmT1p3gfo",
        "outputId": "a8d1ee19-5953-4c56-8e02-e2f68023a26e"
      },
      "execution_count": null,
      "outputs": [
        {
          "output_type": "execute_result",
          "data": {
            "text/plain": [
              "<IPython.core.display.Latex object>"
            ],
            "text/latex": "$$ |00\\rangle$$"
          },
          "metadata": {},
          "execution_count": 13
        }
      ]
    },
    {
      "cell_type": "markdown",
      "source": [
        "**Explanation**:\n",
        "  - `Statevector.from_label(\"0\")` creates the quantum state |0⟩.\n",
        "  - `zero.tensor(one)` performs the tensor product between two states.\n",
        "  - `draw(\"latex\")` generates a LaTeX representation of the resulting state."
      ],
      "metadata": {
        "id": "dT_1PXTL4Z9-"
      }
    },
    {
      "cell_type": "markdown",
      "source": [
        "### 2. Create an Operator and Apply it to a State Vector\n",
        "\n",
        "In quantum mechanics, we can apply operators (quantum gates) to state vectors to manipulate their values. Here, we first create a more complex quantum state and then apply some common quantum operators like Pauli-X and Identity gates."
      ],
      "metadata": {
        "id": "m3j3V-Mg4hQS"
      }
    },
    {
      "cell_type": "code",
      "source": [
        "plus = Statevector.from_label(\"+\")\n",
        "\n",
        "i_state = Statevector([1/sqrt(2), 1j/sqrt(2)])\n",
        "\n",
        "psi = plus.tensor(i_state)\n",
        "psi.draw(\"latex\")"
      ],
      "metadata": {
        "colab": {
          "base_uri": "https://localhost:8080/",
          "height": 38
        },
        "id": "Ft58D5TJ4VBD",
        "outputId": "fdb9a49b-dcee-475e-ca5c-93274e7e6e5d"
      },
      "execution_count": 19,
      "outputs": [
        {
          "output_type": "execute_result",
          "data": {
            "text/plain": [
              "<IPython.core.display.Latex object>"
            ],
            "text/latex": "$$\\frac{1}{2} |00\\rangle+\\frac{i}{2} |01\\rangle+\\frac{1}{2} |10\\rangle+\\frac{i}{2} |11\\rangle$$"
          },
          "metadata": {},
          "execution_count": 19
        }
      ]
    },
    {
      "cell_type": "markdown",
      "source": [
        "**Explanation**:\n",
        "  - `Statevector.from_label(\"+\")` defines the |+⟩ state, which is a superposition state (|0⟩ + |1⟩) / √2.\n",
        "  - `Statevector([1/sqrt(2), 1j/sqrt(2)])` defines a custom quantum state |ψ⟩.\n",
        "  - The tensor product of |+⟩ and |ψ⟩ results in a two-qubit state."
      ],
      "metadata": {
        "id": "53KbLGUX4tVv"
      }
    },
    {
      "cell_type": "markdown",
      "source": [
        "### 3. Apply an Operator to the State Vector\n",
        "\n",
        "Next, we define quantum operators (Pauli-X and Identity) and apply them to the previously created quantum state. This step simulates how a quantum gate modifies the state."
      ],
      "metadata": {
        "id": "J2gaK1vQ407F"
      }
    },
    {
      "cell_type": "code",
      "source": [
        "X = Operator([[0, 1], [1, 0]])\n",
        "\n",
        "I = Operator([[1, 0], [0, 1]])\n",
        "\n",
        "tensor_XI = X.tensor(I)\n",
        "print(tensor_XI)"
      ],
      "metadata": {
        "colab": {
          "base_uri": "https://localhost:8080/"
        },
        "id": "QuQdlwzv4oHO",
        "outputId": "ef29c3d8-ef62-4852-beb5-f66bb14f43f6"
      },
      "execution_count": 17,
      "outputs": [
        {
          "output_type": "stream",
          "name": "stdout",
          "text": [
            "Operator([[0.+0.j, 0.+0.j, 1.+0.j, 0.+0.j],\n",
            "          [0.+0.j, 0.+0.j, 0.+0.j, 1.+0.j],\n",
            "          [1.+0.j, 0.+0.j, 0.+0.j, 0.+0.j],\n",
            "          [0.+0.j, 1.+0.j, 0.+0.j, 0.+0.j]],\n",
            "         input_dims=(2, 2), output_dims=(2, 2))\n"
          ]
        }
      ]
    },
    {
      "cell_type": "code",
      "source": [
        "psi_evolved = psi.evolve(tensor_XI)\n",
        "\n",
        "psi_evolved.draw(\"latex\")"
      ],
      "metadata": {
        "colab": {
          "base_uri": "https://localhost:8080/",
          "height": 38
        },
        "id": "oEMU6HPxHOln",
        "outputId": "95037c6d-ce77-4942-eed1-269ef692e797"
      },
      "execution_count": 20,
      "outputs": [
        {
          "output_type": "execute_result",
          "data": {
            "text/plain": [
              "<IPython.core.display.Latex object>"
            ],
            "text/latex": "$$\\frac{1}{2} |00\\rangle+\\frac{i}{2} |01\\rangle+\\frac{1}{2} |10\\rangle+\\frac{i}{2} |11\\rangle$$"
          },
          "metadata": {},
          "execution_count": 20
        }
      ]
    },
    {
      "cell_type": "markdown",
      "source": [
        "**Explanation**:\n",
        "  - `Operator([[0, 1], [1, 0]])` defines the Pauli-X gate (quantum NOT gate).\n",
        "  - `Operator([[1, 0], [0, 1]])` defines the Identity gate.\n",
        "  - `X.tensor(I)` creates the operator X ⊗ I, which applies Pauli-X to the first qubit and Identity to the second.\n",
        "  - `psi.evolve(tensor_XI)` evolves the state |ψ⟩ under the action of the operator X ⊗ I."
      ],
      "metadata": {
        "id": "cu3BQbfh6cSU"
      }
    },
    {
      "cell_type": "markdown",
      "source": [
        "### 4. Apply the Pauli-Y Operator\n",
        "\n",
        "We now apply the **Pauli-Y** gate, which is another quantum operator that flips the qubit while introducing a phase shift. It can be represented by the matrix:\n",
        "\n",
        "\n",
        "Y = \\begin{pmatrix} 0 & -i \\\\ i & 0 \\end{pmatrix}\n",
        "\n"
      ],
      "metadata": {
        "id": "2qVn-QOS7Wgs"
      }
    },
    {
      "cell_type": "code",
      "source": [
        "Y = Operator([[0, -1j], [1j, 0]])\n",
        "\n",
        "tensor_YI = Y.tensor(I)\n",
        "psi_evolved_y = psi.evolve(tensor_YI)\n",
        "psi_evolved_y.draw(\"latex\")"
      ],
      "metadata": {
        "colab": {
          "base_uri": "https://localhost:8080/",
          "height": 38
        },
        "id": "3f8at2v66TTv",
        "outputId": "ce2e84fc-d4b1-4a4c-8da7-a580be9e8b42"
      },
      "execution_count": null,
      "outputs": [
        {
          "output_type": "execute_result",
          "data": {
            "text/plain": [
              "<IPython.core.display.Latex object>"
            ],
            "text/latex": "$$- \\frac{i}{2} |00\\rangle+\\frac{1}{2} |01\\rangle+\\frac{i}{2} |10\\rangle- \\frac{1}{2} |11\\rangle$$"
          },
          "metadata": {},
          "execution_count": 8
        }
      ]
    },
    {
      "cell_type": "markdown",
      "source": [
        "**Explanation**:\n",
        "  - The Pauli-Y gate is defined by `Operator([[0, -1j], [1j, 0]])`.\n",
        "  - The tensor product `Y.tensor(I)` applies Pauli-Y to the first qubit and Identity to the second.\n",
        "  - `psi.evolve(tensor_YI)` evolves the state under this operator."
      ],
      "metadata": {
        "id": "GevtH_9w7dkx"
      }
    },
    {
      "cell_type": "markdown",
      "source": [
        "### 5. Perform Partial Measurement on the State Vector\n",
        "\n",
        "Finally, we perform a partial measurement on one of the qubits. This allows us to measure the state of the system without collapsing the entire quantum state."
      ],
      "metadata": {
        "id": "I0Mjbveh7hdA"
      }
    },
    {
      "cell_type": "code",
      "source": [
        "W_state = (1/sqrt(3)) * Statevector([0, 0, 0, 1, 1, 0, 1, 0])\n",
        "result, new_w = W_state.measure([0])\n",
        "print(f\"Measured {result}\\nState after measurement:\")\n",
        "new_w.draw(\"Latex\")"
      ],
      "metadata": {
        "colab": {
          "base_uri": "https://localhost:8080/",
          "height": 72
        },
        "id": "2wv8ReY_7iCq",
        "outputId": "846d9350-6890-4bc9-be7d-316f1147e92c"
      },
      "execution_count": 15,
      "outputs": [
        {
          "output_type": "stream",
          "name": "stdout",
          "text": [
            "Measured 1\n",
            "State after measurement:\n"
          ]
        },
        {
          "output_type": "execute_result",
          "data": {
            "text/plain": [
              "<IPython.core.display.Latex object>"
            ],
            "text/latex": "$$ |011\\rangle$$"
          },
          "metadata": {},
          "execution_count": 15
        }
      ]
    },
    {
      "cell_type": "markdown",
      "source": [
        "**Explanation**:\n",
        "  - `Statevector.from_label(\"00\")` defines a new quantum state |00⟩.\n",
        "  - `W.measure([0])` performs a partial measurement on the first qubit.\n",
        "  - `new_sv.draw(\"latex\")` displays the resulting state after measurement."
      ],
      "metadata": {
        "id": "co3Rj_FO7oKy"
      }
    },
    {
      "cell_type": "markdown",
      "source": [
        "### Representation of CSWAP and TOFFOLI Gates:\n",
        "\n",
        "\n",
        "### 1. **CSWAP (Controlled Swap)**\n",
        "The **CSWAP** gate is a three-qubit gate that swaps the second and third qubits if the first qubit (control qubit) is in the $|1\\rangle$ state.\n",
        "\n",
        "The action of the **CSWAP** gate can be summarized as:\n",
        "- If the control qubit is $|0\\rangle$, the second and third qubits remain unchanged.\n",
        "- If the control qubit is $|1\\rangle$, the second and third qubits are swapped.\n",
        "\n",
        "Mathematically, it operates as follows:\n",
        "- $|0\\rangle \\otimes |q_1\\rangle \\otimes |q_2\\rangle \\rightarrow |0\\rangle \\otimes |q_1\\rangle \\otimes |q_2\\rangle$ (no swap).\n",
        "- $|1\\rangle \\otimes |q_1\\rangle \\otimes |q_2\\rangle \\rightarrow |1\\rangle \\otimes |q_2\\rangle \\otimes |q_1\\rangle$ (swap second and third qubits).\n",
        "\n",
        "### 2. **Toffoli Gate (CCNOT)**\n",
        "The **Toffoli** gate, also known as the **CCNOT** gate, is a three-qubit gate that flips the third qubit (target qubit) if and only if both the first and second qubits (control qubits) are in the $|1\\rangle$ state.\n",
        "\n",
        "The action of the **Toffoli** gate can be summarized as:\n",
        "- If both control qubits are $|1\\rangle$, the third qubit (target) is flipped.\n",
        "- If either of the control qubits is $|0\\rangle$, the third qubit remains unchanged.\n",
        "\n",
        "Mathematically, it operates as follows:\n",
        "- $|q_0\\rangle \\otimes |q_1\\rangle \\otimes |0\\rangle \\rightarrow |q_0\\rangle \\otimes |q_1\\rangle \\otimes |0\\rangle$ if $|q_0\\rangle$ or $|q_1\\rangle$ is $|0\\rangle$.\n",
        "- $|1\\rangle \\otimes |1\\rangle \\otimes |q_2\\rangle \\rightarrow |1\\rangle \\otimes |1\\rangle \\otimes |\\bar{q_2}\\rangle$ (third qubit is flipped if both controls are $|1\\rangle$).\n",
        "\n",
        "\n"
      ],
      "metadata": {
        "id": "4gL6GuN6HjRp"
      }
    },
    {
      "cell_type": "code",
      "source": [
        "initial_state = Statevector.from_label('110')\n",
        "initial_state.draw('latex')"
      ],
      "metadata": {
        "colab": {
          "base_uri": "https://localhost:8080/",
          "height": 37
        },
        "id": "QHv66B3IHo3Z",
        "outputId": "b0d8ef19-c10e-46fb-9910-3f8ca5cfda28"
      },
      "execution_count": 35,
      "outputs": [
        {
          "output_type": "execute_result",
          "data": {
            "text/plain": [
              "<IPython.core.display.Latex object>"
            ],
            "text/latex": "$$ |110\\rangle$$"
          },
          "metadata": {},
          "execution_count": 35
        }
      ]
    },
    {
      "cell_type": "code",
      "source": [
        "CSWAP = np.array([\n",
        "    [1, 0, 0, 0, 0, 0, 0, 0],\n",
        "    [0, 1, 0, 0, 0, 0, 0, 0],\n",
        "    [0, 0, 1, 0, 0, 0, 0, 0],\n",
        "    [0, 0, 0, 1, 0, 0, 0, 0],\n",
        "    [0, 0, 0, 0, 1, 0, 0, 0],\n",
        "    [0, 0, 0, 0, 0, 0, 1, 0],\n",
        "    [0, 0, 0, 0, 0, 1, 0, 0],\n",
        "    [0, 0, 0, 0, 0, 0, 0, 1]\n",
        "])\n",
        "\n",
        "cswap_operator = Operator(CSWAP)\n",
        "cswap_state = initial_state.evolve(cswap_operator)\n",
        "print(\"Statevector after applying CSWAP:\")\n",
        "cswap_state.draw('latex')\n",
        "cswap_state.draw('latex')"
      ],
      "metadata": {
        "colab": {
          "base_uri": "https://localhost:8080/",
          "height": 55
        },
        "id": "PGsDyPsiKnz9",
        "outputId": "398f73e2-4cc7-4b86-9bd3-fbe0a0442a32"
      },
      "execution_count": 38,
      "outputs": [
        {
          "output_type": "stream",
          "name": "stdout",
          "text": [
            "Statevector after applying CSWAP:\n"
          ]
        },
        {
          "output_type": "execute_result",
          "data": {
            "text/plain": [
              "<IPython.core.display.Latex object>"
            ],
            "text/latex": "$$ |101\\rangle$$"
          },
          "metadata": {},
          "execution_count": 38
        }
      ]
    },
    {
      "cell_type": "code",
      "source": [
        "TOFFOLI = np.array([\n",
        "    [1, 0, 0, 0, 0, 0, 0, 0],\n",
        "    [0, 1, 0, 0, 0, 0, 0, 0],\n",
        "    [0, 0, 1, 0, 0, 0, 0, 0],\n",
        "    [0, 0, 0, 1, 0, 0, 0, 0],\n",
        "    [0, 0, 0, 0, 1, 0, 0, 0],\n",
        "    [0, 0, 0, 0, 0, 1, 0, 0],\n",
        "    [0, 0, 0, 0, 0, 0, 0, 1],\n",
        "    [0, 0, 0, 0, 0, 0, 1, 0]\n",
        "])\n",
        "toffoli_operator = Operator(TOFFOLI)\n",
        "toffoli_state = initial_state.evolve(toffoli_operator)\n",
        "print(\"Statevector after applying Toffoli:\")\n",
        "toffoli_state.draw('latex')"
      ],
      "metadata": {
        "colab": {
          "base_uri": "https://localhost:8080/",
          "height": 55
        },
        "id": "slPOF4OULVV4",
        "outputId": "75b9d83e-07ff-41e9-b25c-88ffeb2d0045"
      },
      "execution_count": 39,
      "outputs": [
        {
          "output_type": "stream",
          "name": "stdout",
          "text": [
            "Statevector after applying Toffoli:\n"
          ]
        },
        {
          "output_type": "execute_result",
          "data": {
            "text/plain": [
              "<IPython.core.display.Latex object>"
            ],
            "text/latex": "$$ |111\\rangle$$"
          },
          "metadata": {},
          "execution_count": 39
        }
      ]
    }
  ]
}