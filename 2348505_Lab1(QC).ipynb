{
  "nbformat": 4,
  "nbformat_minor": 0,
  "metadata": {
    "colab": {
      "provenance": []
    },
    "kernelspec": {
      "name": "python3",
      "display_name": "Python 3"
    },
    "language_info": {
      "name": "python"
    },
    "widgets": {
      "application/vnd.jupyter.widget-state+json": {
        "fdc24fc7500f4600918fec13da7e7184": {
          "model_module": "@jupyter-widgets/controls",
          "model_name": "VBoxModel",
          "model_module_version": "1.5.0",
          "state": {
            "_dom_classes": [],
            "_model_module": "@jupyter-widgets/controls",
            "_model_module_version": "1.5.0",
            "_model_name": "VBoxModel",
            "_view_count": null,
            "_view_module": "@jupyter-widgets/controls",
            "_view_module_version": "1.5.0",
            "_view_name": "VBoxView",
            "box_style": "",
            "children": [
              "IPY_MODEL_a03a4f888f3b4842a10ffe9e23dc2bb8",
              "IPY_MODEL_bb56ddaf59744e1faa70982da3a810b8"
            ],
            "layout": "IPY_MODEL_daae010a32d14e6298816d4ac718cbcf"
          }
        },
        "a03a4f888f3b4842a10ffe9e23dc2bb8": {
          "model_module": "@jupyter-widgets/controls",
          "model_name": "FloatSliderModel",
          "model_module_version": "1.5.0",
          "state": {
            "_dom_classes": [],
            "_model_module": "@jupyter-widgets/controls",
            "_model_module_version": "1.5.0",
            "_model_name": "FloatSliderModel",
            "_view_count": null,
            "_view_module": "@jupyter-widgets/controls",
            "_view_module_version": "1.5.0",
            "_view_name": "FloatSliderView",
            "continuous_update": true,
            "description": "Alpha:",
            "description_tooltip": null,
            "disabled": false,
            "layout": "IPY_MODEL_73d098a3122941b9896532d9f4ce2639",
            "max": 2,
            "min": -2,
            "orientation": "horizontal",
            "readout": true,
            "readout_format": ".2f",
            "step": 0.1,
            "style": "IPY_MODEL_d98b8df9874340dba8d7cfeb5012e269",
            "value": 0.6
          }
        },
        "bb56ddaf59744e1faa70982da3a810b8": {
          "model_module": "@jupyter-widgets/controls",
          "model_name": "FloatSliderModel",
          "model_module_version": "1.5.0",
          "state": {
            "_dom_classes": [],
            "_model_module": "@jupyter-widgets/controls",
            "_model_module_version": "1.5.0",
            "_model_name": "FloatSliderModel",
            "_view_count": null,
            "_view_module": "@jupyter-widgets/controls",
            "_view_module_version": "1.5.0",
            "_view_name": "FloatSliderView",
            "continuous_update": true,
            "description": "Beta:",
            "description_tooltip": null,
            "disabled": false,
            "layout": "IPY_MODEL_5ecd75c16c2640a38d0de220be65a366",
            "max": 2,
            "min": -2,
            "orientation": "horizontal",
            "readout": true,
            "readout_format": ".2f",
            "step": 0.1,
            "style": "IPY_MODEL_7310163b1dcf498492c0c291cf80b17e",
            "value": -0.3
          }
        },
        "daae010a32d14e6298816d4ac718cbcf": {
          "model_module": "@jupyter-widgets/base",
          "model_name": "LayoutModel",
          "model_module_version": "1.2.0",
          "state": {
            "_model_module": "@jupyter-widgets/base",
            "_model_module_version": "1.2.0",
            "_model_name": "LayoutModel",
            "_view_count": null,
            "_view_module": "@jupyter-widgets/base",
            "_view_module_version": "1.2.0",
            "_view_name": "LayoutView",
            "align_content": null,
            "align_items": null,
            "align_self": null,
            "border": null,
            "bottom": null,
            "display": null,
            "flex": null,
            "flex_flow": null,
            "grid_area": null,
            "grid_auto_columns": null,
            "grid_auto_flow": null,
            "grid_auto_rows": null,
            "grid_column": null,
            "grid_gap": null,
            "grid_row": null,
            "grid_template_areas": null,
            "grid_template_columns": null,
            "grid_template_rows": null,
            "height": null,
            "justify_content": null,
            "justify_items": null,
            "left": null,
            "margin": null,
            "max_height": null,
            "max_width": null,
            "min_height": null,
            "min_width": null,
            "object_fit": null,
            "object_position": null,
            "order": null,
            "overflow": null,
            "overflow_x": null,
            "overflow_y": null,
            "padding": null,
            "right": null,
            "top": null,
            "visibility": null,
            "width": null
          }
        },
        "73d098a3122941b9896532d9f4ce2639": {
          "model_module": "@jupyter-widgets/base",
          "model_name": "LayoutModel",
          "model_module_version": "1.2.0",
          "state": {
            "_model_module": "@jupyter-widgets/base",
            "_model_module_version": "1.2.0",
            "_model_name": "LayoutModel",
            "_view_count": null,
            "_view_module": "@jupyter-widgets/base",
            "_view_module_version": "1.2.0",
            "_view_name": "LayoutView",
            "align_content": null,
            "align_items": null,
            "align_self": null,
            "border": null,
            "bottom": null,
            "display": null,
            "flex": null,
            "flex_flow": null,
            "grid_area": null,
            "grid_auto_columns": null,
            "grid_auto_flow": null,
            "grid_auto_rows": null,
            "grid_column": null,
            "grid_gap": null,
            "grid_row": null,
            "grid_template_areas": null,
            "grid_template_columns": null,
            "grid_template_rows": null,
            "height": null,
            "justify_content": null,
            "justify_items": null,
            "left": null,
            "margin": null,
            "max_height": null,
            "max_width": null,
            "min_height": null,
            "min_width": null,
            "object_fit": null,
            "object_position": null,
            "order": null,
            "overflow": null,
            "overflow_x": null,
            "overflow_y": null,
            "padding": null,
            "right": null,
            "top": null,
            "visibility": null,
            "width": null
          }
        },
        "d98b8df9874340dba8d7cfeb5012e269": {
          "model_module": "@jupyter-widgets/controls",
          "model_name": "SliderStyleModel",
          "model_module_version": "1.5.0",
          "state": {
            "_model_module": "@jupyter-widgets/controls",
            "_model_module_version": "1.5.0",
            "_model_name": "SliderStyleModel",
            "_view_count": null,
            "_view_module": "@jupyter-widgets/base",
            "_view_module_version": "1.2.0",
            "_view_name": "StyleView",
            "description_width": "",
            "handle_color": null
          }
        },
        "5ecd75c16c2640a38d0de220be65a366": {
          "model_module": "@jupyter-widgets/base",
          "model_name": "LayoutModel",
          "model_module_version": "1.2.0",
          "state": {
            "_model_module": "@jupyter-widgets/base",
            "_model_module_version": "1.2.0",
            "_model_name": "LayoutModel",
            "_view_count": null,
            "_view_module": "@jupyter-widgets/base",
            "_view_module_version": "1.2.0",
            "_view_name": "LayoutView",
            "align_content": null,
            "align_items": null,
            "align_self": null,
            "border": null,
            "bottom": null,
            "display": null,
            "flex": null,
            "flex_flow": null,
            "grid_area": null,
            "grid_auto_columns": null,
            "grid_auto_flow": null,
            "grid_auto_rows": null,
            "grid_column": null,
            "grid_gap": null,
            "grid_row": null,
            "grid_template_areas": null,
            "grid_template_columns": null,
            "grid_template_rows": null,
            "height": null,
            "justify_content": null,
            "justify_items": null,
            "left": null,
            "margin": null,
            "max_height": null,
            "max_width": null,
            "min_height": null,
            "min_width": null,
            "object_fit": null,
            "object_position": null,
            "order": null,
            "overflow": null,
            "overflow_x": null,
            "overflow_y": null,
            "padding": null,
            "right": null,
            "top": null,
            "visibility": null,
            "width": null
          }
        },
        "7310163b1dcf498492c0c291cf80b17e": {
          "model_module": "@jupyter-widgets/controls",
          "model_name": "SliderStyleModel",
          "model_module_version": "1.5.0",
          "state": {
            "_model_module": "@jupyter-widgets/controls",
            "_model_module_version": "1.5.0",
            "_model_name": "SliderStyleModel",
            "_view_count": null,
            "_view_module": "@jupyter-widgets/base",
            "_view_module_version": "1.2.0",
            "_view_name": "StyleView",
            "description_width": "",
            "handle_color": null
          }
        },
        "8fcba33c4248464a86e859de313b9dfc": {
          "model_module": "@jupyter-widgets/output",
          "model_name": "OutputModel",
          "model_module_version": "1.0.0",
          "state": {
            "_dom_classes": [],
            "_model_module": "@jupyter-widgets/output",
            "_model_module_version": "1.0.0",
            "_model_name": "OutputModel",
            "_view_count": null,
            "_view_module": "@jupyter-widgets/output",
            "_view_module_version": "1.0.0",
            "_view_name": "OutputView",
            "layout": "IPY_MODEL_39aebc4d0fcc4e2e84732acbdb3cac9b",
            "msg_id": "",
            "outputs": [
              {
                "output_type": "display_data",
                "data": {
                  "text/plain": "<Figure size 640x480 with 1 Axes>",
                  "image/png": "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\n"
                },
                "metadata": {}
              }
            ]
          }
        },
        "39aebc4d0fcc4e2e84732acbdb3cac9b": {
          "model_module": "@jupyter-widgets/base",
          "model_name": "LayoutModel",
          "model_module_version": "1.2.0",
          "state": {
            "_model_module": "@jupyter-widgets/base",
            "_model_module_version": "1.2.0",
            "_model_name": "LayoutModel",
            "_view_count": null,
            "_view_module": "@jupyter-widgets/base",
            "_view_module_version": "1.2.0",
            "_view_name": "LayoutView",
            "align_content": null,
            "align_items": null,
            "align_self": null,
            "border": null,
            "bottom": null,
            "display": null,
            "flex": null,
            "flex_flow": null,
            "grid_area": null,
            "grid_auto_columns": null,
            "grid_auto_flow": null,
            "grid_auto_rows": null,
            "grid_column": null,
            "grid_gap": null,
            "grid_row": null,
            "grid_template_areas": null,
            "grid_template_columns": null,
            "grid_template_rows": null,
            "height": null,
            "justify_content": null,
            "justify_items": null,
            "left": null,
            "margin": null,
            "max_height": null,
            "max_width": null,
            "min_height": null,
            "min_width": null,
            "object_fit": null,
            "object_position": null,
            "order": null,
            "overflow": null,
            "overflow_x": null,
            "overflow_y": null,
            "padding": null,
            "right": null,
            "top": null,
            "visibility": null,
            "width": null
          }
        }
      }
    }
  },
  "cells": [
    {
      "cell_type": "markdown",
      "source": [
        "# **Representation of quantum state and standard basis measurement**\n",
        "\n",
        "\n",
        "---\n",
        "\n"
      ],
      "metadata": {
        "id": "DaD1VnsLp6hr"
      }
    },
    {
      "cell_type": "markdown",
      "source": [
        "**Importing Necessary Libraries**\n",
        "\n",
        "---\n",
        "\n",
        "- **Qiskit**: A popular open-source framework for quantum computing, enabling users to create quantum circuits, run simulations, and visualize results.\n",
        "- **Matplotlib**: A plotting library in Python used for visualizing data.\n",
        "- **NumPy**: A library for numerical operations in Python, essential for handling arrays and matrices.\n",
        "- **IPython.display**: A module to display various types of output, such as mathematical expressions, in Jupyter notebooks."
      ],
      "metadata": {
        "id": "6pptsWhwrG2D"
      }
    },
    {
      "cell_type": "code",
      "source": [
        "!pip install qiskit -q"
      ],
      "metadata": {
        "id": "qVJ3ggpFvlGB"
      },
      "execution_count": 15,
      "outputs": []
    },
    {
      "cell_type": "code",
      "source": [
        "!pip install qiskit-aer -q"
      ],
      "metadata": {
        "colab": {
          "base_uri": "https://localhost:8080/"
        },
        "id": "bdiScPVFxQPC",
        "outputId": "b32807e3-5c5b-4a92-f788-6be54eb868b2"
      },
      "execution_count": 16,
      "outputs": [
        {
          "output_type": "stream",
          "name": "stdout",
          "text": [
            "\u001b[2K   \u001b[90m━━━━━━━━━━━━━━━━━━━━━━━━━━━━━━━━━━━━━━━━\u001b[0m \u001b[32m12.3/12.3 MB\u001b[0m \u001b[31m52.9 MB/s\u001b[0m eta \u001b[36m0:00:00\u001b[0m\n",
            "\u001b[?25h"
          ]
        }
      ]
    },
    {
      "cell_type": "code",
      "execution_count": 66,
      "metadata": {
        "id": "RM6ybUV7pvQe"
      },
      "outputs": [],
      "source": [
        "import matplotlib.pyplot as plt\n",
        "import numpy as np\n",
        "from IPython.display import display\n",
        "from qiskit.quantum_info import Statevector\n",
        "from qiskit.visualization import plot_histogram\n",
        "from math import sqrt, pi"
      ]
    },
    {
      "cell_type": "markdown",
      "source": [
        "## **1. Represent qubit state vector in matrix notation**\n",
        "\n",
        "---\n",
        "\n",
        "- **Quantum States**: In quantum mechanics, qubits (quantum bits) are the basic units of quantum information. They can be represented in a vector space.\n",
        "- **Standard Basis States**:\n",
        "  - ∣0⟩ is represented by the vector \\begin{pmatrix} 1 \\\\ 0 \\end{pmatrix}\n",
        "  - ∣1⟩ is represented by the vector \\begin{pmatrix} 0 \\\\ 1 \\end{pmatrix}\n",
        "- **Matrix Notation**: The above code constructs the state vectors for |0⟩ and ∣1⟩ and formats them for display in LaTeX."
      ],
      "metadata": {
        "id": "AT2VExDErfA2"
      }
    },
    {
      "cell_type": "code",
      "source": [
        "ket_0 = np.array([[1], [0]])\n",
        "ket_1 = np.array([[0], [1]])"
      ],
      "metadata": {
        "id": "YVda0MIWrN65"
      },
      "execution_count": 3,
      "outputs": []
    },
    {
      "cell_type": "code",
      "source": [
        "ket_0_matrix = f\"\\\\begin{{pmatrix}} {ket_0[0,0]} \\\\\\\\ {ket_0[1,0]} \\\\end{{pmatrix}}\"\n",
        "ket_1_matrix = f\"\\\\begin{{pmatrix}} {ket_1[0,0]} \\\\\\\\ {ket_1[1,0]} \\\\end{{pmatrix}}\""
      ],
      "metadata": {
        "id": "DIfv-2iztKTP"
      },
      "execution_count": 6,
      "outputs": []
    },
    {
      "cell_type": "code",
      "source": [
        "display(Math(f\"|0⟩ = {ket_0_matrix}\"))\n",
        "display(Math(f\"|1⟩ = {ket_1_matrix}\"))"
      ],
      "metadata": {
        "colab": {
          "base_uri": "https://localhost:8080/",
          "height": 98
        },
        "id": "Ak6r8X9Ku1nq",
        "outputId": "d7f438ff-abba-4b0c-8ed2-f19d17124da2"
      },
      "execution_count": 7,
      "outputs": [
        {
          "output_type": "display_data",
          "data": {
            "text/plain": [
              "<IPython.core.display.Math object>"
            ],
            "text/latex": "$\\displaystyle |0⟩ = \\begin{pmatrix} 1 \\\\ 0 \\end{pmatrix}$"
          },
          "metadata": {}
        },
        {
          "output_type": "display_data",
          "data": {
            "text/plain": [
              "<IPython.core.display.Math object>"
            ],
            "text/latex": "$\\displaystyle |1⟩ = \\begin{pmatrix} 0 \\\\ 1 \\end{pmatrix}$"
          },
          "metadata": {}
        }
      ]
    },
    {
      "cell_type": "markdown",
      "source": [
        "## **2. Define and display state vectors and check their validity**\n",
        "\n",
        "---\n",
        "\n",
        "- **State Vectors**: The code defines several state vectors using the `Statevector` class from Qiskit. Each vector represents a quantum state.\n",
        "- **Valid State Vectors**:\n",
        "  - u, v, and w are valid state vectors\n",
        "  - y,z, and a are invalid state vectors\n",
        "- **Validity Check**: The `is_valid()` method checks whether the state vector is a valid quantum state, meaning its norm should equal 1.\n",
        "\n",
        "### Mathematical Notation:\n",
        "## Mathematical Notation: Validity of a State Vector\n",
        "\n",
        "The validity of a state vector |ψ⟩ can be checked using the normalization condition:\n",
        "\n",
        "⟨ψ|ψ⟩ = 1\n",
        "\n",
        "Where:\n",
        "- ⟨ψ| is the bra vector (the conjugate transpose of the ket vector |ψ⟩).\n",
        "- |ψ⟩ is the ket vector representing the quantum state.\n",
        "\n",
        "This condition ensures that the total probability of all possible outcomes upon measurement is equal to 1, which is a fundamental requirement for valid quantum states.\n",
        "\n",
        "\n",
        "---\n",
        "\n",
        "\n",
        "\n",
        "\n",
        "\n"
      ],
      "metadata": {
        "id": "gGy2Zo9vu_Bi"
      }
    },
    {
      "cell_type": "markdown",
      "source": [
        "## **2. Define and Display State Vectors and Check Their Validity**\n",
        "\n",
        "---\n",
        "\n",
        "- **State Vectors**: The code defines several state vectors using the `Statevector` class from Qiskit. Each vector represents a quantum state.\n",
        "- **Valid State Vectors**:\n",
        "  - \\( u \\), \\( v \\), and \\( w \\) are valid state vectors.\n",
        "- **Invalid State Vectors**:\n",
        "  - \\( y \\), \\( z \\), and \\( b \\) are invalid state vectors.\n",
        "- **Validity Check**: The `is_valid()` method checks whether the state vector is a valid quantum state, meaning its norm should equal 1.\n",
        "\n",
        "### Mathematical Notation: Validity of a State Vector\n",
        "\n",
        "The validity of a state vector \\( |\\psi\\rangle \\) can be checked using the normalization condition:\n",
        "\n",
        "$$\n",
        "\\langle \\psi | \\psi \\rangle = 1\n",
        "$$\n",
        "\n",
        "Where:\n",
        "- $  \\langle \\psi |  $ is the bra vector (the conjugate transpose of the ket vector $ |\\psi\\rangle  $.\n",
        "-  $ |\\psi\\rangle  $ is the ket vector representing the quantum state.\n",
        "\n",
        "This condition ensures that the total probability of all possible outcomes upon measurement is equal to 1, which is a fundamental requirement for valid quantum states.\n",
        "\n",
        "---\n"
      ],
      "metadata": {
        "id": "Qxi09OUeF_j4"
      }
    },
    {
      "cell_type": "code",
      "source": [],
      "metadata": {
        "id": "i--g9UdsF8zk"
      },
      "execution_count": null,
      "outputs": []
    },
    {
      "cell_type": "code",
      "source": [
        "u = Statevector([1/sqrt(2), 1/sqrt(2)])\n",
        "v = Statevector([(1 + 2.0j) / 3, -2 / 3])\n",
        "w = Statevector([1/sqrt(10), 3/sqrt(10)])\n",
        "\n",
        "y = Statevector([1/2, 1/2])\n",
        "z = Statevector([2, 2])\n",
        "b = Statevector([1, 2])"
      ],
      "metadata": {
        "id": "0uqY1iDAyBLy"
      },
      "execution_count": 52,
      "outputs": []
    },
    {
      "cell_type": "markdown",
      "source": [
        "### Valid State Vector Calculation\n",
        "\n",
        "For the valid state vector \\( u \\), the calculation will yield:\n",
        "\n",
        "$$\n",
        "\\langle u | u \\rangle = \\left| \\frac{1}{\\sqrt{2}} \\right|^2 + \\left| \\frac{1}{\\sqrt{2}} \\right|^2 = \\frac{1}{2} + \\frac{1}{2} = 1\n",
        "$$\n",
        "\n",
        "Since the probability is coming up to be 1, its a valid state vector.\n",
        "\n",
        "### Invalid State Vector Calculation\n",
        "\n",
        "For the invalid state vector \\( z \\), the calculation will yield:\n",
        "\n",
        "$$\n",
        "\\langle z | z \\rangle = |2|^2 + |2|^2 = 4 + 4 = 8\n",
        "$$\n",
        "\n",
        "Since the probability is not coming up to be 1, its not a valid state vector"
      ],
      "metadata": {
        "id": "DOb7vN7oFEFg"
      }
    },
    {
      "cell_type": "code",
      "source": [
        "def display_state(state, label):\n",
        "    display(f\"{label}: \",state.draw('latex'))\n",
        "    display(f\"{label} is valid: {state.is_valid()}\")"
      ],
      "metadata": {
        "id": "3sNgi37gzNQX"
      },
      "execution_count": 37,
      "outputs": []
    },
    {
      "cell_type": "markdown",
      "source": [
        "**Valid State Vectors**\n",
        "\n",
        "---"
      ],
      "metadata": {
        "id": "aChbKJGsGy_3"
      }
    },
    {
      "cell_type": "code",
      "source": [
        "display_state(u, \"u\")\n",
        "display_state(v, \"v\")\n",
        "display_state(w, \"w\")"
      ],
      "metadata": {
        "colab": {
          "base_uri": "https://localhost:8080/",
          "height": 196
        },
        "id": "FSdNWcwTzSIW",
        "outputId": "8687fa5d-af8c-4eed-ccbe-b52e983dbf8f"
      },
      "execution_count": 51,
      "outputs": [
        {
          "output_type": "display_data",
          "data": {
            "text/plain": [
              "'u: '"
            ],
            "application/vnd.google.colaboratory.intrinsic+json": {
              "type": "string"
            }
          },
          "metadata": {}
        },
        {
          "output_type": "display_data",
          "data": {
            "text/plain": [
              "<IPython.core.display.Latex object>"
            ],
            "text/latex": "$$\\frac{\\sqrt{2}}{2} |0\\rangle+\\frac{\\sqrt{2}}{2} |1\\rangle$$"
          },
          "metadata": {}
        },
        {
          "output_type": "display_data",
          "data": {
            "text/plain": [
              "'u is valid: True'"
            ],
            "application/vnd.google.colaboratory.intrinsic+json": {
              "type": "string"
            }
          },
          "metadata": {}
        },
        {
          "output_type": "display_data",
          "data": {
            "text/plain": [
              "'v: '"
            ],
            "application/vnd.google.colaboratory.intrinsic+json": {
              "type": "string"
            }
          },
          "metadata": {}
        },
        {
          "output_type": "display_data",
          "data": {
            "text/plain": [
              "<IPython.core.display.Latex object>"
            ],
            "text/latex": "$$(\\frac{1}{3} + \\frac{2 i}{3}) |0\\rangle- \\frac{2}{3} |1\\rangle$$"
          },
          "metadata": {}
        },
        {
          "output_type": "display_data",
          "data": {
            "text/plain": [
              "'v is valid: True'"
            ],
            "application/vnd.google.colaboratory.intrinsic+json": {
              "type": "string"
            }
          },
          "metadata": {}
        },
        {
          "output_type": "display_data",
          "data": {
            "text/plain": [
              "'w: '"
            ],
            "application/vnd.google.colaboratory.intrinsic+json": {
              "type": "string"
            }
          },
          "metadata": {}
        },
        {
          "output_type": "display_data",
          "data": {
            "text/plain": [
              "<IPython.core.display.Latex object>"
            ],
            "text/latex": "$$\\frac{\\sqrt{10}}{10} |0\\rangle+\\frac{3 \\sqrt{10}}{10} |1\\rangle$$"
          },
          "metadata": {}
        },
        {
          "output_type": "display_data",
          "data": {
            "text/plain": [
              "'w is valid: True'"
            ],
            "application/vnd.google.colaboratory.intrinsic+json": {
              "type": "string"
            }
          },
          "metadata": {}
        }
      ]
    },
    {
      "cell_type": "markdown",
      "source": [
        "**Invalid State Vectors**\n",
        "\n",
        "---"
      ],
      "metadata": {
        "id": "vg4KwYadE046"
      }
    },
    {
      "cell_type": "code",
      "source": [
        "display_state(y, \"y\")\n",
        "display_state(z, \"z\")\n",
        "display_state(b, \"b\")"
      ],
      "metadata": {
        "colab": {
          "base_uri": "https://localhost:8080/",
          "height": 190
        },
        "id": "tzSJoqAozTwe",
        "outputId": "65b739f4-1732-4bbb-e28e-d97c783db0c1"
      },
      "execution_count": 42,
      "outputs": [
        {
          "output_type": "display_data",
          "data": {
            "text/plain": [
              "'y: '"
            ],
            "application/vnd.google.colaboratory.intrinsic+json": {
              "type": "string"
            }
          },
          "metadata": {}
        },
        {
          "output_type": "display_data",
          "data": {
            "text/plain": [
              "<IPython.core.display.Latex object>"
            ],
            "text/latex": "$$\\frac{1}{2} |0\\rangle+\\frac{1}{2} |1\\rangle$$"
          },
          "metadata": {}
        },
        {
          "output_type": "display_data",
          "data": {
            "text/plain": [
              "'y is valid: False'"
            ],
            "application/vnd.google.colaboratory.intrinsic+json": {
              "type": "string"
            }
          },
          "metadata": {}
        },
        {
          "output_type": "display_data",
          "data": {
            "text/plain": [
              "'z: '"
            ],
            "application/vnd.google.colaboratory.intrinsic+json": {
              "type": "string"
            }
          },
          "metadata": {}
        },
        {
          "output_type": "display_data",
          "data": {
            "text/plain": [
              "<IPython.core.display.Latex object>"
            ],
            "text/latex": "$$2 |0\\rangle+2 |1\\rangle$$"
          },
          "metadata": {}
        },
        {
          "output_type": "display_data",
          "data": {
            "text/plain": [
              "'z is valid: False'"
            ],
            "application/vnd.google.colaboratory.intrinsic+json": {
              "type": "string"
            }
          },
          "metadata": {}
        },
        {
          "output_type": "display_data",
          "data": {
            "text/plain": [
              "'b: '"
            ],
            "application/vnd.google.colaboratory.intrinsic+json": {
              "type": "string"
            }
          },
          "metadata": {}
        },
        {
          "output_type": "display_data",
          "data": {
            "text/plain": [
              "<IPython.core.display.Latex object>"
            ],
            "text/latex": "$$ |0\\rangle+2 |1\\rangle$$"
          },
          "metadata": {}
        },
        {
          "output_type": "display_data",
          "data": {
            "text/plain": [
              "'b is valid: False'"
            ],
            "application/vnd.google.colaboratory.intrinsic+json": {
              "type": "string"
            }
          },
          "metadata": {}
        }
      ]
    },
    {
      "cell_type": "markdown",
      "source": [
        "## **Simulate measurements and visualise the result**\n",
        "\n",
        "---\n",
        "\n",
        "- **Measurement Simulation**: The function `simulate_measurement` displays the state vector and simulates a measurement. In quantum mechanics, measuring a quantum state collapses it into one of the basis states according to the probabilities defined by the state's amplitudes.\n",
        "- **Measurement Probabilities**: The probability of measuring a state is given by the square of the absolute value of its amplitude:\n",
        "$$\n",
        "P(|0\\rangle)  =  |\\alpha|^2, \\quad P(|1\\rangle)  = |\\beta|^2 \\quad \\text{for } |\\psi\\rangle = \\alpha |0\\rangle + \\beta |1\\rangle\n",
        "$$\n",
        "\n",
        "- **Sampling and Visualization**: The `sample_counts` method is used to simulate 1000 measurements, resulting in a count of how many times each state is measured. The histogram of the measurement outcomes is then plotted using `plot_histogram`."
      ],
      "metadata": {
        "id": "VmtJ92hs6iqg"
      }
    },
    {
      "cell_type": "code",
      "source": [
        "def simulate_measurement(state_vector):\n",
        "  display(\"State Vector: \",state_vector.draw('latex'))\n",
        "  print(f\"Measurement: \",state_vector.measure())"
      ],
      "metadata": {
        "id": "MFcoKg-G6Rgg"
      },
      "execution_count": 102,
      "outputs": []
    },
    {
      "cell_type": "markdown",
      "source": [
        "## **Measurement Probabilities for State Vector \\( u \\)**\n",
        "\n",
        "---\n",
        "\n",
        "The state vector \\( u \\) is defined as:\n",
        "\n",
        "$$\n",
        "u = |u\\rangle = \\frac{1}{\\sqrt{2}} |0\\rangle + \\frac{1}{\\sqrt{2}} |1\\rangle\n",
        "$$\n",
        "\n",
        "Where:\n",
        "- The amplitude $ \\alpha = \\frac{1}{\\sqrt{2}}  $ corresponds to the basis state $  |0\\rangle $ .\n",
        "- The amplitude  $\\beta = \\frac{1}{\\sqrt{2}} $  corresponds to the basis state $ |1\\rangle $ .\n",
        "\n",
        "### Probability Calculation\n",
        "\n",
        "The probabilities of measuring the states \\( |0\\rangle \\) and \\( |1\\rangle \\) can be calculated using the formula for measurement probabilities:\n",
        "\n",
        "1. **Probability of measuring $ |0\\rangle $**:\n",
        "\n",
        "   $$\n",
        "   P\\left(|0\\rangle\\right) = |\\alpha|^2\n",
        "   $$\n",
        "   Substituting $ \\alpha $:\n",
        "\n",
        "   $$\n",
        "   P\\left(|0\\rangle\\right) = \\left|\\frac{1}{\\sqrt{2}}\\right|^2 = \\frac{1}{2}\n",
        "   $$\n",
        "\n",
        "2. **Probability of measuring $ |1\\rangle $**:\n",
        "\n",
        "   $$\n",
        "   P\\left(|1\\rangle\\right) = |\\beta|^2\n",
        "   $$\n",
        "   Substituting $ \\beta $:\n",
        "\n",
        "   $$\n",
        "   P\\left(|1\\rangle\\right) = \\left|\\frac{1}{\\sqrt{2}}\\right|^2 = \\frac{1}{2}\n",
        "   $$\n",
        "\n",
        "### Summary of Measurement Probabilities\n",
        "\n",
        "Thus, the probabilities of measuring the state vector \\( u \\) are:\n",
        "\n",
        "- Probability of measuring $ |0\\rangle $:\n",
        "  $$ P\\left(|0\\rangle\\right) = \\frac{1}{2} $$\n",
        "\n",
        "- Probability of measuring $ |1\\rangle $:\n",
        "  $$ P\\left(|1\\rangle\\right) = \\frac{1}{2} $$\n",
        "\n",
        "These probabilities indicate that upon measurement, there is an equal chance of collapsing the state to either $ |0\\rangle $ or $ |1\\rangle $.\n",
        "\n",
        "---\n"
      ],
      "metadata": {
        "id": "x0CWXfrgJCDn"
      }
    },
    {
      "cell_type": "code",
      "source": [
        "simulate_measurement(u)"
      ],
      "metadata": {
        "colab": {
          "base_uri": "https://localhost:8080/",
          "height": 94
        },
        "id": "7Wu31jbC9_hy",
        "outputId": "d5a0a0bf-2908-4002-afeb-bc25964d4f70"
      },
      "execution_count": 103,
      "outputs": [
        {
          "output_type": "display_data",
          "data": {
            "text/plain": [
              "'State Vector: '"
            ],
            "application/vnd.google.colaboratory.intrinsic+json": {
              "type": "string"
            }
          },
          "metadata": {}
        },
        {
          "output_type": "display_data",
          "data": {
            "text/plain": [
              "<IPython.core.display.Latex object>"
            ],
            "text/latex": "$$\\frac{\\sqrt{2}}{2} |0\\rangle+\\frac{\\sqrt{2}}{2} |1\\rangle$$"
          },
          "metadata": {}
        },
        {
          "output_type": "stream",
          "name": "stdout",
          "text": [
            "Measurement:  ('1', Statevector([0.+0.j, 1.+0.j],\n",
            "            dims=(2,)))\n"
          ]
        }
      ]
    },
    {
      "cell_type": "markdown",
      "source": [
        "*When a measurement is made, the output is either 0 or 1. There is a probability that the measurement will be 0 and a probability that the measurement will be 1.*"
      ],
      "metadata": {
        "id": "ThGn3zr3IEKv"
      }
    },
    {
      "cell_type": "code",
      "source": [
        "simulate_measurement(v)"
      ],
      "metadata": {
        "colab": {
          "base_uri": "https://localhost:8080/",
          "height": 91
        },
        "id": "TsjWQ4JG-QlX",
        "outputId": "c8c08ca3-d9fb-44d4-e47f-69fafb87c974"
      },
      "execution_count": 105,
      "outputs": [
        {
          "output_type": "display_data",
          "data": {
            "text/plain": [
              "'State Vector: '"
            ],
            "application/vnd.google.colaboratory.intrinsic+json": {
              "type": "string"
            }
          },
          "metadata": {}
        },
        {
          "output_type": "display_data",
          "data": {
            "text/plain": [
              "<IPython.core.display.Latex object>"
            ],
            "text/latex": "$$(\\frac{1}{3} + \\frac{2 i}{3}) |0\\rangle- \\frac{2}{3} |1\\rangle$$"
          },
          "metadata": {}
        },
        {
          "output_type": "stream",
          "name": "stdout",
          "text": [
            "Measurement:  ('1', Statevector([ 0.+0.j, -1.+0.j],\n",
            "            dims=(2,)))\n"
          ]
        }
      ]
    },
    {
      "cell_type": "code",
      "source": [
        "simulate_measurement(w)"
      ],
      "metadata": {
        "colab": {
          "base_uri": "https://localhost:8080/",
          "height": 94
        },
        "id": "rDmCOZjd7gxE",
        "outputId": "bf7be77a-b9ce-41a9-a923-3e9a2da1bc2f"
      },
      "execution_count": 79,
      "outputs": [
        {
          "output_type": "display_data",
          "data": {
            "text/plain": [
              "'State Vector: '"
            ],
            "application/vnd.google.colaboratory.intrinsic+json": {
              "type": "string"
            }
          },
          "metadata": {}
        },
        {
          "output_type": "display_data",
          "data": {
            "text/plain": [
              "<IPython.core.display.Latex object>"
            ],
            "text/latex": "$$\\frac{\\sqrt{10}}{10} |0\\rangle+\\frac{3 \\sqrt{10}}{10} |1\\rangle$$"
          },
          "metadata": {}
        },
        {
          "output_type": "stream",
          "name": "stdout",
          "text": [
            "Measurement:  ('1', Statevector([0.+0.j, 1.+0.j],\n",
            "            dims=(2,)))\n"
          ]
        }
      ]
    },
    {
      "cell_type": "markdown",
      "source": [
        "The probability of each state vector changes upon each re-run of the simulation due to the inherent randomness of quantum measurements and the probabilistic nature of quantum mechanics. Here are the key reasons why:\n",
        "\n",
        "### 1. **Measurement in Quantum Mechanics**\n",
        "- **Collapse of State**: When you measure a quantum state, it collapses to one of its basis states (e.g., $|0\\rangle $ or $|1\\rangle$). The outcome of this measurement is probabilistic.\n",
        "- **Probability Amplitudes**: The probabilities of measuring a particular state depend on the square of the absolute value of the probability amplitudes in the state vector. For example, if your state vector is:\n",
        "  $$\n",
        "  |\\psi\\rangle = \\alpha |0\\rangle + \\beta |1\\rangle\n",
        "  $$\n",
        "  Then the probabilities are:\n",
        "  $$ P(|0\\rangle) = |\\alpha|^2, \\quad P(|1\\rangle) = |\\beta|^2 $$\n",
        "\n",
        "### 2. **Statistical Sampling**\n",
        "- **Finite Trials**: When you perform a finite number of measurements (like 1000 in your simulation), the results are statistical samples of the probabilities defined by the quantum state. The more trials you run, the more you can expect the observed probabilities to converge to the theoretical probabilities.\n",
        "- **Variation in Results**: Each time you run the simulation, the specific outcomes of the measurements may vary due to random fluctuations. This is why you might see different probabilities for each run, especially with a limited number of samples.\n",
        "\n",
        "### 3. **Quantum Superposition**\n",
        "- **Superposition States**: If the state vector is in a superposition (like \\(|+\\rangle\\)), the probabilities of measuring \\(|0\\rangle\\) or \\(|1\\rangle\\) are equal (if perfectly balanced). However, the actual outcomes will still vary because of the probabilistic nature of measurements.\n",
        "\n",
        "### 4. **Measurement Basis**\n",
        "- **Changing Basis**: If you were to change the basis of measurement (e.g., measure in the \\(X\\) or \\(Y\\) basis instead of the \\(Z\\) basis), the probabilities would change based on the representation of the state vector in that new basis.\n"
      ],
      "metadata": {
        "id": "GL0bmBQZJbDB"
      }
    },
    {
      "cell_type": "code",
      "source": [
        "# Plot results for each state vector\n",
        "statistics = u.sample_counts(1000)\n",
        "display(\"State Vector: \",u.draw('latex'))\n",
        "display(f\"{'Measurement Results for State u'}: \",statistics)\n",
        "plot_histogram(statistics, title='Measurement Results for State u')"
      ],
      "metadata": {
        "colab": {
          "base_uri": "https://localhost:8080/",
          "height": 529
        },
        "id": "I6L8471C827f",
        "outputId": "0a3a9d35-60f1-4a79-85d6-96d98b8b8f85"
      },
      "execution_count": 99,
      "outputs": [
        {
          "output_type": "display_data",
          "data": {
            "text/plain": [
              "'State Vector: '"
            ],
            "application/vnd.google.colaboratory.intrinsic+json": {
              "type": "string"
            }
          },
          "metadata": {}
        },
        {
          "output_type": "display_data",
          "data": {
            "text/plain": [
              "<IPython.core.display.Latex object>"
            ],
            "text/latex": "$$\\frac{\\sqrt{2}}{2} |0\\rangle+\\frac{\\sqrt{2}}{2} |1\\rangle$$"
          },
          "metadata": {}
        },
        {
          "output_type": "display_data",
          "data": {
            "text/plain": [
              "'Measurement Results for State u: '"
            ],
            "application/vnd.google.colaboratory.intrinsic+json": {
              "type": "string"
            }
          },
          "metadata": {}
        },
        {
          "output_type": "display_data",
          "data": {
            "text/plain": [
              "{'0': 479, '1': 521}"
            ]
          },
          "metadata": {}
        },
        {
          "output_type": "execute_result",
          "data": {
            "text/plain": [
              "<Figure size 640x480 with 1 Axes>"
            ],
            "image/png": "[encoded data removed]"
          },
          "metadata": {},
          "execution_count": 99
        }
      ]
    },
    {
      "cell_type": "code",
      "source": [
        "# Plot results for each state vector\n",
        "statistics = v.sample_counts(1000)\n",
        "display(\"State Vector: \",v.draw('latex'))\n",
        "display(f\"{'Measurement Results for State v'}: \",statistics)\n",
        "plot_histogram(statistics, title='Measurement Results for State v')"
      ],
      "metadata": {
        "colab": {
          "base_uri": "https://localhost:8080/",
          "height": 526
        },
        "id": "qdH8TFnQ89zK",
        "outputId": "eddb5073-27ee-431e-ec21-d1fc77d408bd"
      },
      "execution_count": 100,
      "outputs": [
        {
          "output_type": "display_data",
          "data": {
            "text/plain": [
              "'State Vector: '"
            ],
            "application/vnd.google.colaboratory.intrinsic+json": {
              "type": "string"
            }
          },
          "metadata": {}
        },
        {
          "output_type": "display_data",
          "data": {
            "text/plain": [
              "<IPython.core.display.Latex object>"
            ],
            "text/latex": "$$(\\frac{1}{3} + \\frac{2 i}{3}) |0\\rangle- \\frac{2}{3} |1\\rangle$$"
          },
          "metadata": {}
        },
        {
          "output_type": "display_data",
          "data": {
            "text/plain": [
              "'Measurement Results for State v: '"
            ],
            "application/vnd.google.colaboratory.intrinsic+json": {
              "type": "string"
            }
          },
          "metadata": {}
        },
        {
          "output_type": "display_data",
          "data": {
            "text/plain": [
              "{'0': 532, '1': 468}"
            ]
          },
          "metadata": {}
        },
        {
          "output_type": "execute_result",
          "data": {
            "text/plain": [
              "<Figure size 640x480 with 1 Axes>"
            ],
            "image/png": "[encoded data removed]"
          },
          "metadata": {},
          "execution_count": 100
        }
      ]
    },
    {
      "cell_type": "code",
      "source": [
        "# Plot results for each state vector\n",
        "statistics = w.sample_counts(1000)\n",
        "display(\"State Vector: \",w.draw('latex'))\n",
        "display(f\"{'Measurement Results for State w'}: \",statistics)\n",
        "plot_histogram(statistics, title='Measurement Results for State w')"
      ],
      "metadata": {
        "colab": {
          "base_uri": "https://localhost:8080/",
          "height": 529
        },
        "id": "ho2Hqni7An0C",
        "outputId": "7c2beb1c-fca4-4a27-afab-0910bfc1cda1"
      },
      "execution_count": 101,
      "outputs": [
        {
          "output_type": "display_data",
          "data": {
            "text/plain": [
              "'State Vector: '"
            ],
            "application/vnd.google.colaboratory.intrinsic+json": {
              "type": "string"
            }
          },
          "metadata": {}
        },
        {
          "output_type": "display_data",
          "data": {
            "text/plain": [
              "<IPython.core.display.Latex object>"
            ],
            "text/latex": "$$\\frac{\\sqrt{10}}{10} |0\\rangle+\\frac{3 \\sqrt{10}}{10} |1\\rangle$$"
          },
          "metadata": {}
        },
        {
          "output_type": "display_data",
          "data": {
            "text/plain": [
              "'Measurement Results for State w: '"
            ],
            "application/vnd.google.colaboratory.intrinsic+json": {
              "type": "string"
            }
          },
          "metadata": {}
        },
        {
          "output_type": "display_data",
          "data": {
            "text/plain": [
              "{'0': 97, '1': 903}"
            ]
          },
          "metadata": {}
        },
        {
          "output_type": "execute_result",
          "data": {
            "text/plain": [
              "<Figure size 640x480 with 1 Axes>"
            ],
            "image/png": "[encoded data removed]"
          },
          "metadata": {},
          "execution_count": 101
        }
      ]
    },
    {
      "cell_type": "markdown",
      "source": [
        "### **Something New and Exciting**"
      ],
      "metadata": {
        "id": "RhTw7cykM4Pp"
      }
    },
    {
      "cell_type": "markdown",
      "source": [
        "# Dynamic Probability Visualization\n",
        "\n",
        "This section demonstrates an interactive visualization that allows users to dynamically adjust the amplitudes of a quantum state vector and observe how these adjustments affect the measurement probabilities and resulting histograms in real time.\n",
        "\n",
        "I used `ipywidgets` to create sliders for the amplitudes $  \\alpha $ and $ \\beta $, which represent the coefficients of the quantum state $ | \\psi \\rangle = \\alpha |0\\rangle + \\beta |1\\rangle $. The state vector is normalized based on the user inputs, and the corresponding measurement probabilities are calculated and displayed.\n"
      ],
      "metadata": {
        "id": "ZXgvefh-NJVO"
      }
    },
    {
      "cell_type": "code",
      "source": [
        "import ipywidgets as widgets\n",
        "from IPython.display import display\n",
        "\n",
        "def update_state_vector(alpha, beta):\n",
        "    norm = sqrt(abs(alpha)**2 + abs(beta)**2)\n",
        "    alpha_normalized = alpha / norm\n",
        "    beta_normalized = beta / norm\n",
        "    state_vector = Statevector([alpha_normalized, beta_normalized])\n",
        "    probabilities = [abs(amplitude)**2 for amplitude in state_vector]\n",
        "    plt.bar(['|0⟩', '|1⟩'], probabilities)\n",
        "    plt.title(f'Probability Distribution for {state_vector.draw(\"latex\")}')\n",
        "    plt.xlabel('States')\n",
        "    plt.ylabel('Probability')\n",
        "    plt.ylim(0, 1)\n",
        "    plt.show()\n",
        "    statistics = state_vector.sample_counts(1000)\n",
        "    plot_histogram(statistics, title='Measurement Results')\n",
        "alpha_slider = widgets.FloatSlider(value=1, min=-2, max=2, step=0.1, description='Alpha:')\n",
        "beta_slider = widgets.FloatSlider(value=1, min=-2, max=2, step=0.1, description='Beta:')\n",
        "ui = widgets.VBox([alpha_slider, beta_slider])\n",
        "out = widgets.interactive_output(update_state_vector, {'alpha': alpha_slider, 'beta': beta_slider})\n",
        "display(ui, out)"
      ],
      "metadata": {
        "colab": {
          "base_uri": "https://localhost:8080/",
          "height": 536,
          "referenced_widgets": [
            "fdc24fc7500f4600918fec13da7e7184",
            "a03a4f888f3b4842a10ffe9e23dc2bb8",
            "bb56ddaf59744e1faa70982da3a810b8",
            "daae010a32d14e6298816d4ac718cbcf",
            "73d098a3122941b9896532d9f4ce2639",
            "d98b8df9874340dba8d7cfeb5012e269",
            "5ecd75c16c2640a38d0de220be65a366",
            "7310163b1dcf498492c0c291cf80b17e",
            "8fcba33c4248464a86e859de313b9dfc",
            "39aebc4d0fcc4e2e84732acbdb3cac9b"
          ]
        },
        "id": "28tpZawTLOtj",
        "outputId": "5af4db54-7d89-4cc6-96fa-878f0ad015ba"
      },
      "execution_count": 107,
      "outputs": [
        {
          "output_type": "display_data",
          "data": {
            "text/plain": [
              "VBox(children=(FloatSlider(value=1.0, description='Alpha:', max=2.0, min=-2.0), FloatSlider(value=1.0, descrip…"
            ],
            "application/vnd.jupyter.widget-view+json": {
              "version_major": 2,
              "version_minor": 0,
              "model_id": "fdc24fc7500f4600918fec13da7e7184"
            }
          },
          "metadata": {}
        },
        {
          "output_type": "display_data",
          "data": {
            "text/plain": [
              "Output()"
            ],
            "application/vnd.jupyter.widget-view+json": {
              "version_major": 2,
              "version_minor": 0,
              "model_id": "8fcba33c4248464a86e859de313b9dfc"
            }
          },
          "metadata": {}
        }
      ]
    },
    {
      "cell_type": "markdown",
      "source": [
        "### **Entanglement Visualization**\n",
        "\n",
        "This section demonstrates the implementation of Bell states in quantum mechanics and simulates the measurement outcomes for each state. The four Bell states are defined, and their measurement probabilities are calculated and visualized as histograms.\n",
        "\n"
      ],
      "metadata": {
        "id": "knku6M9OO5EQ"
      }
    },
    {
      "cell_type": "markdown",
      "source": [
        "To calculate the measurement probabilities for the Bell state $|\\Phi^+\\rangle$, we start with its mathematical representation:\n",
        "$$\n",
        "|\\Phi^+\\rangle = \\frac{1}{\\sqrt{2}} (|00\\rangle + |11\\rangle)\n",
        "$$\n",
        "\n",
        "### Step-by-Step Calculation\n",
        "\n",
        "1. **State Vector Representation**: The Bell state \\(|\\Phi^+\\rangle\\) can be represented as a state vector:\n",
        "   $\n",
        "   |\\Phi^+\\rangle$ = \\begin{pmatrix}\n",
        "   \\frac{1}{\\sqrt{2}} \\\\\n",
        "   0 \\\\\n",
        "   0 \\\\\n",
        "   \\frac{1}{\\sqrt{2}}\n",
        "   \\end{pmatrix}\n",
        "   \n",
        "   Here, the vector elements correspond to the coefficients for the basis states $|00\\rangle, |01\\rangle, |10\\rangle, and |11\\rangle$, respectively.\n",
        "\n",
        "2. **Calculating Probabilities**:\n",
        "   - The probability of measuring the state \\(|00\\rangle\\) is given by the square of the absolute value of its coefficient in the state vector:\n",
        "   $$\n",
        "     P(00) = |\\langle 00 | \\Phi^+ \\rangle|^2 = \\left|\\frac{1}{\\sqrt{2}}\\right|^2 = \\frac{1}{2}  \n",
        "     $$\n",
        "   - The probability of measuring the state \\(|11\\rangle\\) is similarly calculated:\n",
        "   $\n",
        "   P(11) = |\\langle 11 | \\Phi^+ \\rangle|^2 = \\left|\\frac{1}{\\sqrt{2}}\\right|^2 = \\frac{1}{2} $\n",
        "\n",
        "3. **Probabilities for Other States**:\n",
        "   - The probabilities for the states $ |01\\rangle $ and $ |10\\rangle $ are:\n",
        "   $ [\\ P(01) = |\\langle 01 | \\Phi^+ \\rangle|^2 = |0|^2 = 0 /],\n",
        "  [\\ P(10) = |\\langle 10 | \\Phi^+ \\rangle|^2 = |0|^2 = 0 $ /]\n",
        "\n",
        "### Summary of Results\n",
        "\n",
        "Thus, for the Bell state $|\\Phi^+\\rangle$:\n",
        "- $P(00) = 0.5$\n",
        "- $P(01) = 0$\n",
        "- $P(10) = 0$\n",
        "- $P(11) = 0.5$\n",
        "\n",
        "This means that when we measure the state $|\\Phi^+\\rangle$, we have a 50% chance of finding it in either $|00\\rangle$ or $|11\\rangle$, and a 0% chance of finding it in the states $|01\\rangle$ or $|10\\rangle$. This behavior is characteristic of entangled states, demonstrating that measurement outcomes are correlated between the two qubits involved."
      ],
      "metadata": {
        "id": "SaPEXIgfPsNK"
      }
    },
    {
      "cell_type": "code",
      "source": [
        "bell_states = {\n",
        "    '|Φ⁺⟩': Statevector([1/np.sqrt(2), 0, 0, 1/np.sqrt(2)]),\n",
        "    '|Φ⁻⟩': Statevector([1/np.sqrt(2), 0, 1/np.sqrt(2), 0]),\n",
        "    '|Ψ⁺⟩': Statevector([0, 1/np.sqrt(2), 1/np.sqrt(2), 0]),\n",
        "    '|Ψ⁻⟩': Statevector([0, 1/np.sqrt(2), -1/np.sqrt(2), 0])\n",
        "}\n",
        "\n",
        "counts_list = []\n",
        "\n",
        "for name, state_vector in bell_states.items():\n",
        "  display(f\"{name}: \",state_vector.draw('latex'))\n",
        "  probabilities = np.abs(state_vector.data)**2\n",
        "  counts = {\n",
        "        '00': probabilities[0] * 1000,\n",
        "        '01': probabilities[1] * 1000,\n",
        "        '10': probabilities[2] * 1000,\n",
        "        '11': probabilities[3] * 1000\n",
        "    }\n",
        "  counts_list.append((name, counts))\n",
        "\n",
        "for name, counts in counts_list:\n",
        "    plt.figure()\n",
        "    plt.bar(counts.keys(), counts.values(), color=['blue', 'orange', 'green', 'red'])\n",
        "    plt.title(f'Measurement Results for Bell State {name}')\n",
        "    plt.xlabel('States')\n",
        "    plt.ylabel('Counts (out of 1000)')\n",
        "    plt.ylim(0, 1000)\n",
        "    plt.show()"
      ],
      "metadata": {
        "colab": {
          "base_uri": "https://localhost:8080/",
          "height": 1000
        },
        "id": "lsBQuoOELlBk",
        "outputId": "15b7b2da-2b60-4601-b9ce-f8f0ec3b058c"
      },
      "execution_count": 118,
      "outputs": [
        {
          "output_type": "display_data",
          "data": {
            "text/plain": [
              "'|Φ⁺⟩: '"
            ],
            "application/vnd.google.colaboratory.intrinsic+json": {
              "type": "string"
            }
          },
          "metadata": {}
        },
        {
          "output_type": "display_data",
          "data": {
            "text/plain": [
              "<IPython.core.display.Latex object>"
            ],
            "text/latex": "$$\\frac{\\sqrt{2}}{2} |00\\rangle+\\frac{\\sqrt{2}}{2} |11\\rangle$$"
          },
          "metadata": {}
        },
        {
          "output_type": "display_data",
          "data": {
            "text/plain": [
              "'|Φ⁻⟩: '"
            ],
            "application/vnd.google.colaboratory.intrinsic+json": {
              "type": "string"
            }
          },
          "metadata": {}
        },
        {
          "output_type": "display_data",
          "data": {
            "text/plain": [
              "<IPython.core.display.Latex object>"
            ],
            "text/latex": "$$\\frac{\\sqrt{2}}{2} |00\\rangle+\\frac{\\sqrt{2}}{2} |10\\rangle$$"
          },
          "metadata": {}
        },
        {
          "output_type": "display_data",
          "data": {
            "text/plain": [
              "'|Ψ⁺⟩: '"
            ],
            "application/vnd.google.colaboratory.intrinsic+json": {
              "type": "string"
            }
          },
          "metadata": {}
        },
        {
          "output_type": "display_data",
          "data": {
            "text/plain": [
              "<IPython.core.display.Latex object>"
            ],
            "text/latex": "$$\\frac{\\sqrt{2}}{2} |01\\rangle+\\frac{\\sqrt{2}}{2} |10\\rangle$$"
          },
          "metadata": {}
        },
        {
          "output_type": "display_data",
          "data": {
            "text/plain": [
              "'|Ψ⁻⟩: '"
            ],
            "application/vnd.google.colaboratory.intrinsic+json": {
              "type": "string"
            }
          },
          "metadata": {}
        },
        {
          "output_type": "display_data",
          "data": {
            "text/plain": [
              "<IPython.core.display.Latex object>"
            ],
            "text/latex": "$$\\frac{\\sqrt{2}}{2} |01\\rangle- \\frac{\\sqrt{2}}{2} |10\\rangle$$"
          },
          "metadata": {}
        },
        {
          "output_type": "display_data",
          "data": {
            "text/plain": [
              "<Figure size 640x480 with 1 Axes>"
            ],
            "image/png": "[encoded data removed]"
          },
          "metadata": {}
        },
        {
          "output_type": "display_data",
          "data": {
            "text/plain": [
              "<Figure size 640x480 with 1 Axes>"
            ],
            "image/png": "[encoded data removed]"
          },
          "metadata": {}
        },
        {
          "output_type": "display_data",
          "data": {
            "text/plain": [
              "<Figure size 640x480 with 1 Axes>"
            ],
            "image/png": "[encoded data removed]"
          },
          "metadata": {}
        },
        {
          "output_type": "display_data",
          "data": {
            "text/plain": [
              "<Figure size 640x480 with 1 Axes>"
            ],
            "image/png": "[encoded data removed]"
          },
          "metadata": {}
        }
      ]
    },
    {
      "cell_type": "markdown",
      "source": [
        "## **Inference**\n",
        "\n",
        "---\n",
        "\n",
        "Through the exploration of quantum state vectors and their measurements, we have gained a deeper understanding of several fundamental principles in quantum mechanics:\n",
        "\n",
        "1. **State Representation**: We defined various quantum state vectors, both valid and invalid, using the Qiskit library. This process highlighted the importance of ensuring that state vectors are normalized, which is a prerequisite for their validity. The normalization condition $ \\langle \\psi |  \\psi \\rangle = 1 $ confirms that the total probability of measuring all possible outcomes must equal one.\n",
        "\n",
        "2. **Measurement Simulation**: By simulating measurements of state vectors, we observed how quantum states collapse into one of the basis states upon measurement. This simulation emphasized the inherent uncertainty in quantum mechanics, as the outcome of a measurement cannot be predicted with certainty but only characterized by probabilities derived from the state's amplitudes.\n",
        "\n",
        "3. **Probability Calculation**: We calculated the probabilities of measuring specific states using the square of the absolute values of the amplitudes. For the valid state vector \\( u \\), the equal probabilities $  P(|0\\rangle) = \\frac{1}{2}$  and $ P(|1\\rangle) = \\frac{1}{2}$  demonstrated a balanced superposition. This behavior is indicative of many quantum systems in an unmeasured state, where they can exist in multiple states simultaneously.\n",
        "\n",
        "4. **Statistical Analysis**: Utilizing the `sample_counts` method, we simulated 1000 measurements, allowing us to visualize the results through histograms. This statistical approach provided insights into the distribution of measurement outcomes, reinforcing the probabilistic nature of quantum mechanics.\n",
        "\n",
        "5. **Valid and Invalid State Vectors**: The distinction between valid and invalid state vectors was crucial in understanding the requirements for a proper quantum state. Invalid state vectors, such as \\( z \\) and \\( b \\), illustrated the need for normalization and underscored the potential pitfalls in defining quantum states.\n",
        "\n",
        "6. **Quantum Mechanics Principles**: Throughout our exploration, we touched upon key principles of quantum mechanics, including superposition, measurement, and the role of probability in determining measurement outcomes. These principles form the foundation of quantum theory and have profound implications for quantum computing and information processing.\n",
        "\n",
        "\n",
        "---\n"
      ],
      "metadata": {
        "id": "3I9pfn9LLyAN"
      }
    }
  ]
}